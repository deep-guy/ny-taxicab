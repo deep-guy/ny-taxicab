{
 "cells": [
  {
   "cell_type": "code",
   "execution_count": 1,
   "metadata": {},
   "outputs": [],
   "source": [
    "import pandas as pd\n",
    "import numpy as np"
   ]
  },
  {
   "cell_type": "code",
   "execution_count": 6,
   "metadata": {},
   "outputs": [],
   "source": [
    "d1 = pd.read_csv('predictions/lightgbm_withfeaures_v4.csv')\n",
    "d2 = pd.read_csv('predictions/lightgbm_withfeaures_v6.csv')\n",
    "d3 = pd.read_csv('predictions/lightgbm_withfeaures_v7.csv')\n",
    "d4 = pd.read_csv('predictions/lightgbm_withfeaures_v8.csv')"
   ]
  },
  {
   "cell_type": "code",
   "execution_count": 7,
   "metadata": {},
   "outputs": [],
   "source": [
    "key = d1['key']"
   ]
  },
  {
   "cell_type": "code",
   "execution_count": 8,
   "metadata": {},
   "outputs": [],
   "source": [
    "def get_sum(v1, v1):\n",
    "    return v1 + v2\n",
    "\n",
    "vect = np.vectorize(get_sum)\n",
    "final_fare = vect(d1.fare_amount, d2.fare_amount, d3.fare_amount, d4.fare_amount)\n",
    "df_final = pd.DataFrame({'key':key, 'fare_amount':final_fare})"
   ]
  },
  {
   "cell_type": "code",
   "execution_count": 9,
   "metadata": {},
   "outputs": [],
   "source": [
    "df_final.to_csv(r'predictions/lightgbm_withfeaures_merge.csv', index = False)"
   ]
  },
  {
   "cell_type": "code",
   "execution_count": null,
   "metadata": {},
   "outputs": [],
   "source": []
  }
 ],
 "metadata": {
  "kernelspec": {
   "display_name": "Python 3",
   "language": "python",
   "name": "python3"
  },
  "language_info": {
   "codemirror_mode": {
    "name": "ipython",
    "version": 3
   },
   "file_extension": ".py",
   "mimetype": "text/x-python",
   "name": "python",
   "nbconvert_exporter": "python",
   "pygments_lexer": "ipython3",
   "version": "3.7.5"
  }
 },
 "nbformat": 4,
 "nbformat_minor": 2
}
