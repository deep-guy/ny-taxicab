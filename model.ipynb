{
 "cells": [
  {
   "cell_type": "code",
   "execution_count": 1,
   "metadata": {},
   "outputs": [],
   "source": [
    "import pandas as pd\n",
    "import numpy as np"
   ]
  },
  {
   "cell_type": "code",
   "execution_count": 2,
   "metadata": {},
   "outputs": [],
   "source": [
    "df = pd.read_hdf('data/train_final.h5')"
   ]
  },
  {
   "cell_type": "code",
   "execution_count": 3,
   "metadata": {},
   "outputs": [
    {
     "data": {
      "text/html": [
       "<div>\n",
       "<style scoped>\n",
       "    .dataframe tbody tr th:only-of-type {\n",
       "        vertical-align: middle;\n",
       "    }\n",
       "\n",
       "    .dataframe tbody tr th {\n",
       "        vertical-align: top;\n",
       "    }\n",
       "\n",
       "    .dataframe thead th {\n",
       "        text-align: right;\n",
       "    }\n",
       "</style>\n",
       "<table border=\"1\" class=\"dataframe\">\n",
       "  <thead>\n",
       "    <tr style=\"text-align: right;\">\n",
       "      <th></th>\n",
       "      <th>fare_amount</th>\n",
       "      <th>pickup_longitude</th>\n",
       "      <th>pickup_latitude</th>\n",
       "      <th>dropoff_longitude</th>\n",
       "      <th>dropoff_latitude</th>\n",
       "      <th>passenger_count</th>\n",
       "      <th>sin_time_of_day</th>\n",
       "      <th>cos_time_of_day</th>\n",
       "      <th>sin_day_of_week</th>\n",
       "      <th>cos_day_of_week</th>\n",
       "      <th>sin_month</th>\n",
       "      <th>cos_month</th>\n",
       "      <th>year</th>\n",
       "    </tr>\n",
       "  </thead>\n",
       "  <tbody>\n",
       "    <tr>\n",
       "      <th>0</th>\n",
       "      <td>35.0</td>\n",
       "      <td>-0.279847</td>\n",
       "      <td>0.701283</td>\n",
       "      <td>3.012543</td>\n",
       "      <td>1.105701</td>\n",
       "      <td>0.333333</td>\n",
       "      <td>0.831470</td>\n",
       "      <td>0.555570</td>\n",
       "      <td>7.818315e-01</td>\n",
       "      <td>0.623490</td>\n",
       "      <td>8.660254e-01</td>\n",
       "      <td>0.500000</td>\n",
       "      <td>0.833333</td>\n",
       "    </tr>\n",
       "    <tr>\n",
       "      <th>1</th>\n",
       "      <td>5.7</td>\n",
       "      <td>-0.246209</td>\n",
       "      <td>-0.542171</td>\n",
       "      <td>-0.447212</td>\n",
       "      <td>-0.693727</td>\n",
       "      <td>0.000000</td>\n",
       "      <td>-0.207912</td>\n",
       "      <td>-0.978148</td>\n",
       "      <td>-7.818315e-01</td>\n",
       "      <td>0.623490</td>\n",
       "      <td>1.224647e-16</td>\n",
       "      <td>-1.000000</td>\n",
       "      <td>0.166667</td>\n",
       "    </tr>\n",
       "    <tr>\n",
       "      <th>2</th>\n",
       "      <td>5.7</td>\n",
       "      <td>-0.256903</td>\n",
       "      <td>0.686985</td>\n",
       "      <td>-0.495230</td>\n",
       "      <td>0.844110</td>\n",
       "      <td>0.000000</td>\n",
       "      <td>-0.713250</td>\n",
       "      <td>0.700909</td>\n",
       "      <td>-7.818315e-01</td>\n",
       "      <td>0.623490</td>\n",
       "      <td>-8.660254e-01</td>\n",
       "      <td>0.500000</td>\n",
       "      <td>0.333333</td>\n",
       "    </tr>\n",
       "    <tr>\n",
       "      <th>3</th>\n",
       "      <td>6.0</td>\n",
       "      <td>-0.650984</td>\n",
       "      <td>-1.060208</td>\n",
       "      <td>-0.935605</td>\n",
       "      <td>-1.094218</td>\n",
       "      <td>0.000000</td>\n",
       "      <td>0.279829</td>\n",
       "      <td>-0.960050</td>\n",
       "      <td>-2.449294e-16</td>\n",
       "      <td>1.000000</td>\n",
       "      <td>-5.000000e-01</td>\n",
       "      <td>0.866025</td>\n",
       "      <td>0.500000</td>\n",
       "    </tr>\n",
       "    <tr>\n",
       "      <th>4</th>\n",
       "      <td>10.5</td>\n",
       "      <td>4.280888</td>\n",
       "      <td>-2.989183</td>\n",
       "      <td>4.009854</td>\n",
       "      <td>-2.401387</td>\n",
       "      <td>0.000000</td>\n",
       "      <td>-0.342020</td>\n",
       "      <td>0.939693</td>\n",
       "      <td>-9.749279e-01</td>\n",
       "      <td>-0.222521</td>\n",
       "      <td>8.660254e-01</td>\n",
       "      <td>0.500000</td>\n",
       "      <td>0.166667</td>\n",
       "    </tr>\n",
       "  </tbody>\n",
       "</table>\n",
       "</div>"
      ],
      "text/plain": [
       "   fare_amount  pickup_longitude  pickup_latitude  dropoff_longitude  \\\n",
       "0         35.0         -0.279847         0.701283           3.012543   \n",
       "1          5.7         -0.246209        -0.542171          -0.447212   \n",
       "2          5.7         -0.256903         0.686985          -0.495230   \n",
       "3          6.0         -0.650984        -1.060208          -0.935605   \n",
       "4         10.5          4.280888        -2.989183           4.009854   \n",
       "\n",
       "   dropoff_latitude  passenger_count  sin_time_of_day  cos_time_of_day  \\\n",
       "0          1.105701         0.333333         0.831470         0.555570   \n",
       "1         -0.693727         0.000000        -0.207912        -0.978148   \n",
       "2          0.844110         0.000000        -0.713250         0.700909   \n",
       "3         -1.094218         0.000000         0.279829        -0.960050   \n",
       "4         -2.401387         0.000000        -0.342020         0.939693   \n",
       "\n",
       "   sin_day_of_week  cos_day_of_week     sin_month  cos_month      year  \n",
       "0     7.818315e-01         0.623490  8.660254e-01   0.500000  0.833333  \n",
       "1    -7.818315e-01         0.623490  1.224647e-16  -1.000000  0.166667  \n",
       "2    -7.818315e-01         0.623490 -8.660254e-01   0.500000  0.333333  \n",
       "3    -2.449294e-16         1.000000 -5.000000e-01   0.866025  0.500000  \n",
       "4    -9.749279e-01        -0.222521  8.660254e-01   0.500000  0.166667  "
      ]
     },
     "execution_count": 3,
     "metadata": {},
     "output_type": "execute_result"
    }
   ],
   "source": [
    "df.head()"
   ]
  },
  {
   "cell_type": "code",
   "execution_count": 4,
   "metadata": {},
   "outputs": [],
   "source": [
    "from sklearn.linear_model import LinearRegression"
   ]
  },
  {
   "cell_type": "code",
   "execution_count": 7,
   "metadata": {},
   "outputs": [],
   "source": [
    "target = df['fare_amount']\n",
    "df.drop(columns = ['fare_amount'], inplace = True)"
   ]
  },
  {
   "cell_type": "code",
   "execution_count": 8,
   "metadata": {},
   "outputs": [
    {
     "data": {
      "text/plain": [
       "LinearRegression(copy_X=True, fit_intercept=True, n_jobs=None, normalize=False)"
      ]
     },
     "execution_count": 8,
     "metadata": {},
     "output_type": "execute_result"
    }
   ],
   "source": [
    "regr = LinearRegression() \n",
    "regr.fit(df, target) "
   ]
  },
  {
   "cell_type": "code",
   "execution_count": 9,
   "metadata": {},
   "outputs": [],
   "source": [
    "dfff = pd.read_csv('data/test.csv')"
   ]
  },
  {
   "cell_type": "code",
   "execution_count": 10,
   "metadata": {},
   "outputs": [],
   "source": [
    "dfff.to_hdf(r'data/test_smaller.h5', 'data')"
   ]
  },
  {
   "cell_type": "code",
   "execution_count": 11,
   "metadata": {},
   "outputs": [],
   "source": [
    "import datetime\n",
    "\n",
    "def minutes_after_midnight(date_time):\n",
    "    time = date_time.split(' ')\n",
    "    if len(time) == 3:\n",
    "        time_arr = time[1].split(':')\n",
    "        minutes_after_midnight = 60 * int(time_arr[0]) + int(time_arr[1])\n",
    "        return 2 * np.pi * minutes_after_midnight / 1440\n",
    "    else:\n",
    "        return np.nan\n",
    "\n",
    "def day_of_week(date_time):\n",
    "    time = date_time.split(' ')\n",
    "    if len(time) == 3:\n",
    "        date_arr = time[0].split('-')\n",
    "        date = datetime.date(int(date_arr[0]), int(date_arr[1]), int(date_arr[2]))\n",
    "        return 2 * np.pi * (date.weekday() + 1) / 7\n",
    "    else:\n",
    "        return np.nan\n",
    "\n",
    "def month(date_time):\n",
    "    time = date_time.split(' ')\n",
    "    if len(time) == 3:\n",
    "        return 2 * np.pi * int(time[0].split('-')[1]) / 12\n",
    "    else:\n",
    "        return np.nan\n",
    "\n",
    "def year(date_time):\n",
    "    time = date_time.split(' ')\n",
    "    if len(time) == 3:\n",
    "        return float(time[0].split('-')[0])\n",
    "    else:\n",
    "        return np.nan\n",
    "\n",
    "time_of_day_vec = np.vectorize(minutes_after_midnight)\n",
    "day_of_week_vec = np.vectorize(day_of_week)\n",
    "month_vec = np.vectorize(month)\n",
    "year_vec = np.vectorize(year)\n",
    "\n",
    "def preprocess(df):\n",
    "    # Drop all null values\n",
    "    df = df.dropna()\n",
    "\n",
    "    # Cyclise time and remove key column\n",
    "    time_column = df['pickup_datetime'].to_numpy()\n",
    "    df = df.drop(columns=['pickup_datetime', 'key'])\n",
    "\n",
    "    time_of_day = time_of_day_vec(time_column)\n",
    "    day_of_week = day_of_week_vec(time_column)\n",
    "    month = month_vec(time_column)\n",
    "    year = year_vec(time_column)\n",
    "\n",
    "    df['sin_time_of_day'] = np.sin(time_of_day)\n",
    "    df['cos_time_of_day'] = np.cos(time_of_day)\n",
    "    df['sin_day_of_week'] = np.sin(day_of_week)\n",
    "    df['cos_day_of_week'] = np.cos(day_of_week)\n",
    "    df['sin_month'] = np.sin(month)\n",
    "    df['cos_month'] = np.cos(month)\n",
    "    df['year'] = year\n",
    "    return df"
   ]
  },
  {
   "cell_type": "code",
   "execution_count": 12,
   "metadata": {},
   "outputs": [],
   "source": [
    "dfff = preprocess(dfff)"
   ]
  },
  {
   "cell_type": "code",
   "execution_count": 13,
   "metadata": {},
   "outputs": [],
   "source": [
    "dfff.to_hdf(r'data/test_smaller.h5', 'data')"
   ]
  },
  {
   "cell_type": "code",
   "execution_count": null,
   "metadata": {},
   "outputs": [],
   "source": []
  }
 ],
 "metadata": {
  "kernelspec": {
   "display_name": "Python 3",
   "language": "python",
   "name": "python3"
  },
  "language_info": {
   "codemirror_mode": {
    "name": "ipython",
    "version": 3
   },
   "file_extension": ".py",
   "mimetype": "text/x-python",
   "name": "python",
   "nbconvert_exporter": "python",
   "pygments_lexer": "ipython3",
   "version": "3.7.4"
  }
 },
 "nbformat": 4,
 "nbformat_minor": 2
}
